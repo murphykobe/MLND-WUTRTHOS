{
 "cells": [
  {
   "cell_type": "markdown",
   "metadata": {},
   "source": [
    "## Data Analysis\n"
   ]
  },
  {
   "cell_type": "code",
   "execution_count": null,
   "metadata": {},
   "outputs": [],
   "source": [
    "import pandas as pd\n",
    "import matplotlib.pyplot as plt"
   ]
  },
  {
   "cell_type": "code",
   "execution_count": 3,
   "metadata": {},
   "outputs": [],
   "source": [
    "df=pd.read_csv('output.csv')"
   ]
  },
  {
   "cell_type": "code",
   "execution_count": 4,
   "metadata": {},
   "outputs": [
    {
     "data": {
      "text/html": [
       "<div>\n",
       "<style scoped>\n",
       "    .dataframe tbody tr th:only-of-type {\n",
       "        vertical-align: middle;\n",
       "    }\n",
       "\n",
       "    .dataframe tbody tr th {\n",
       "        vertical-align: top;\n",
       "    }\n",
       "\n",
       "    .dataframe thead th {\n",
       "        text-align: right;\n",
       "    }\n",
       "</style>\n",
       "<table border=\"1\" class=\"dataframe\">\n",
       "  <thead>\n",
       "    <tr style=\"text-align: right;\">\n",
       "      <th></th>\n",
       "      <th>brand</th>\n",
       "      <th>categories</th>\n",
       "      <th>colorway</th>\n",
       "      <th>deadstock_sold</th>\n",
       "      <th>gender</th>\n",
       "      <th>style_id</th>\n",
       "      <th>thumbnail_url</th>\n",
       "      <th>url</th>\n",
       "      <th>idx</th>\n",
       "      <th>label</th>\n",
       "    </tr>\n",
       "  </thead>\n",
       "  <tbody>\n",
       "    <tr>\n",
       "      <th>0</th>\n",
       "      <td>adidas</td>\n",
       "      <td>['adidas', 'Yeezy']</td>\n",
       "      <td>Clay/Clay/Clay</td>\n",
       "      <td>1560.0</td>\n",
       "      <td>men</td>\n",
       "      <td>EG7490</td>\n",
       "      <td>https://stockx.imgix.net/adidas-Yeezy-Boost-35...</td>\n",
       "      <td>adidas-yeezy-boost-350-v2-clay</td>\n",
       "      <td>0</td>\n",
       "      <td>Adidas-Yeezy-350-V2</td>\n",
       "    </tr>\n",
       "    <tr>\n",
       "      <th>1</th>\n",
       "      <td>adidas</td>\n",
       "      <td>['adidas', 'Yeezy']</td>\n",
       "      <td>Grey/Grey/Grey</td>\n",
       "      <td>8542.0</td>\n",
       "      <td>men</td>\n",
       "      <td>EG7492</td>\n",
       "      <td>https://stockx.imgix.net/adidas-Yeezy-Boost-35...</td>\n",
       "      <td>adidas-yeezy-boost-350-v2-true-form</td>\n",
       "      <td>1</td>\n",
       "      <td>Adidas-Yeezy-350-V2</td>\n",
       "    </tr>\n",
       "    <tr>\n",
       "      <th>2</th>\n",
       "      <td>addias</td>\n",
       "      <td>['adidas', 'Yeezy']</td>\n",
       "      <td>Geode/Geode/Geode</td>\n",
       "      <td>1718.0</td>\n",
       "      <td>men</td>\n",
       "      <td>EG6860</td>\n",
       "      <td>https://stockx.imgix.net/adidas-Yeezy-Boost-70...</td>\n",
       "      <td>adidas-yeezy-boost-700-v2-geode</td>\n",
       "      <td>2</td>\n",
       "      <td>Adidas-Yeezy-700-V2</td>\n",
       "    </tr>\n",
       "    <tr>\n",
       "      <th>3</th>\n",
       "      <td>adidas</td>\n",
       "      <td>['adidas', 'Yeezy']</td>\n",
       "      <td>Grey/Grey/Grey</td>\n",
       "      <td>1284.0</td>\n",
       "      <td>men</td>\n",
       "      <td>EG7491</td>\n",
       "      <td>https://stockx.imgix.net/adidas-Yeezy-Boost-35...</td>\n",
       "      <td>adidas-yeezy-boost-350-v2-hyperspace</td>\n",
       "      <td>3</td>\n",
       "      <td>Adidas-Yeezy-350-V2</td>\n",
       "    </tr>\n",
       "    <tr>\n",
       "      <th>4</th>\n",
       "      <td>adidas</td>\n",
       "      <td>['adidas', 'Yeezy']</td>\n",
       "      <td>Grey/Grey/Inertia</td>\n",
       "      <td>7665.0</td>\n",
       "      <td>men</td>\n",
       "      <td>EG7597</td>\n",
       "      <td>https://stockx.imgix.net/adidas-Yeezy-Boost-70...</td>\n",
       "      <td>adidas-yeezy-boost-700-inertia</td>\n",
       "      <td>4</td>\n",
       "      <td>Adidas-Yeezy-700</td>\n",
       "    </tr>\n",
       "  </tbody>\n",
       "</table>\n",
       "</div>"
      ],
      "text/plain": [
       "    brand           categories           colorway  deadstock_sold gender  \\\n",
       "0  adidas  ['adidas', 'Yeezy']     Clay/Clay/Clay          1560.0    men   \n",
       "1  adidas  ['adidas', 'Yeezy']     Grey/Grey/Grey          8542.0    men   \n",
       "2  addias  ['adidas', 'Yeezy']  Geode/Geode/Geode          1718.0    men   \n",
       "3  adidas  ['adidas', 'Yeezy']     Grey/Grey/Grey          1284.0    men   \n",
       "4  adidas  ['adidas', 'Yeezy']  Grey/Grey/Inertia          7665.0    men   \n",
       "\n",
       "  style_id                                      thumbnail_url  \\\n",
       "0   EG7490  https://stockx.imgix.net/adidas-Yeezy-Boost-35...   \n",
       "1   EG7492  https://stockx.imgix.net/adidas-Yeezy-Boost-35...   \n",
       "2   EG6860  https://stockx.imgix.net/adidas-Yeezy-Boost-70...   \n",
       "3   EG7491  https://stockx.imgix.net/adidas-Yeezy-Boost-35...   \n",
       "4   EG7597  https://stockx.imgix.net/adidas-Yeezy-Boost-70...   \n",
       "\n",
       "                                    url  idx                label  \n",
       "0        adidas-yeezy-boost-350-v2-clay    0  Adidas-Yeezy-350-V2  \n",
       "1   adidas-yeezy-boost-350-v2-true-form    1  Adidas-Yeezy-350-V2  \n",
       "2       adidas-yeezy-boost-700-v2-geode    2  Adidas-Yeezy-700-V2  \n",
       "3  adidas-yeezy-boost-350-v2-hyperspace    3  Adidas-Yeezy-350-V2  \n",
       "4        adidas-yeezy-boost-700-inertia    4     Adidas-Yeezy-700  "
      ]
     },
     "execution_count": 4,
     "metadata": {},
     "output_type": "execute_result"
    }
   ],
   "source": [
    "df.head()"
   ]
  },
  {
   "cell_type": "code",
   "execution_count": 33,
   "metadata": {},
   "outputs": [
    {
     "data": {
      "image/png": "[encoded data removed]",
      "text/plain": [
       "<Figure size 720x720 with 1 Axes>"
      ]
     },
     "metadata": {},
     "output_type": "display_data"
    }
   ],
   "source": [
    "plt.figure(figsize=(10,10))\n",
    "ax = df.groupby('label')['deadstock_sold'].sum().nlargest(25).plot(kind='bar')\n",
    "ax =ax.axhline(y=df.groupby('label')['deadstock_sold'].sum().mean(), xmin=0, xmax=1, color='r', linestyle='--', lw=2)"
   ]
  },
  {
   "cell_type": "markdown",
   "metadata": {},
   "source": [
    "- First we take a look at the top 25 most popular sneakers sold on StockX by #of pairs sold, \n",
    "- the top 3 models are Air Jordan 1 High, Adidas Yeezy 350 V2 and Air Jordan 11.\n",
    "- On average there's 11385 pair have been sold on the platform for each style"
   ]
  },
  {
   "cell_type": "code",
   "execution_count": 89,
   "metadata": {},
   "outputs": [
    {
     "data": {
      "image/png": "[encoded data removed]",
      "text/plain": [
       "<Figure size 504x504 with 1 Axes>"
      ]
     },
     "metadata": {},
     "output_type": "display_data"
    }
   ],
   "source": [
    "plt.figure(2,figsize=(7,7))\n",
    "ax = df.groupby('label').count()[['style_id']].boxplot()"
   ]
  },
  {
   "cell_type": "markdown",
   "metadata": {},
   "source": [
    "- Here's boxplot for how many data we have per each label, with max of 62 and min of 1 per label, median of 12.5\n",
    "- I do think this data is not weighted properly, it could be affect our result, I would either remove those label with low data samples or gathering more data"
   ]
  },
  {
   "cell_type": "code",
   "execution_count": null,
   "metadata": {},
   "outputs": [],
   "source": []
  }
 ],
 "metadata": {
  "kernelspec": {
   "display_name": "Python 3",
   "language": "python",
   "name": "python3"
  },
  "language_info": {
   "codemirror_mode": {
    "name": "ipython",
    "version": 3
   },
   "file_extension": ".py",
   "mimetype": "text/x-python",
   "name": "python",
   "nbconvert_exporter": "python",
   "pygments_lexer": "ipython3",
   "version": "3.6.5"
  }
 },
 "nbformat": 4,
 "nbformat_minor": 2
}
